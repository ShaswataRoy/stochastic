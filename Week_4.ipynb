{
 "cells": [
  {
   "cell_type": "markdown",
   "metadata": {},
   "source": [
    "# With a switch"
   ]
  },
  {
   "cell_type": "markdown",
   "metadata": {},
   "source": [
    "Next we look at the double stochastic process,\n",
    "\n",
    "$$D \\rightarrow D^*$$\n",
    "$$D^* \\rightarrow D^*+M$$\n",
    "$$M \\rightarrow \\phi$$"
   ]
  },
  {
   "cell_type": "code",
   "execution_count": 3,
   "metadata": {},
   "outputs": [],
   "source": [
    "import numpy as np\n",
    "import pandas as pd\n",
    "import numpy as np\n",
    "import matplotlib.pyplot as plt"
   ]
  },
  {
   "cell_type": "code",
   "execution_count": 4,
   "metadata": {},
   "outputs": [],
   "source": [
    "k_b=10\n",
    "k_d=1\n",
    "T_max = 25/k_d"
   ]
  },
  {
   "cell_type": "code",
   "execution_count": 5,
   "metadata": {},
   "outputs": [],
   "source": [
    "c_b=.2\n",
    "c_f=.5"
   ]
  },
  {
   "cell_type": "code",
   "execution_count": 6,
   "metadata": {},
   "outputs": [],
   "source": [
    "dt = .01;\n",
    "nreps = 1000\n",
    "tau = 1/k_d\n",
    "P = np.zeros(int(T_max/dt)*nreps)\n",
    "j=0\n",
    "\n",
    "for rep in range(nreps):\n",
    "    i=0\n",
    "    x=0\n",
    "    q0 = int(np.random.rand()>c_b/(c_b+c_f))\n",
    "    q1 = 1-q0\n",
    "    t=0\n",
    "    while t<T_max:\n",
    "        r1,r2=np.random.rand(1,2).flatten().tolist()\n",
    "        p1 = c_f*q0\n",
    "        p2 = c_b*q1\n",
    "        p3 = k_b*q1\n",
    "        p4 = k_d*x\n",
    "        p_net = p1+p2+p3+p4\n",
    "        t_react = -np.log(r1)/p_net\n",
    "        t=t+t_react\n",
    "    \n",
    "        while i<np.min([int(t/dt),int(T_max/dt)]):\n",
    "            if t>5*tau and i%int(tau)==0:\n",
    "                P[j]=x\n",
    "                j=j+1\n",
    "            i=i+1\n",
    "\n",
    "        if r2<p1/p_net:\n",
    "            q1=1\n",
    "            q0=0\n",
    "        \n",
    "        elif r2<(p1+p2)/p_net:\n",
    "            q1=0\n",
    "            q0=1\n",
    "    \n",
    "        elif r2<(p1+p2+p3)/p_net:\n",
    "            x=x+1\n",
    "        \n",
    "        else:\n",
    "            x=x-1"
   ]
  },
  {
   "cell_type": "code",
   "execution_count": 9,
   "metadata": {},
   "outputs": [
    {
     "data": {
      "text/plain": [
       "Text(0.5, 1.0, 'Probability distribution for $c_b=c_f<k_d$')"
      ]
     },
     "execution_count": 9,
     "metadata": {},
     "output_type": "execute_result"
    },
    {
     "data": {
      "image/png": "[encoded data removed]",
      "text/plain": [
       "<Figure size 432x288 with 1 Axes>"
      ]
     },
     "metadata": {
      "needs_background": "light"
     },
     "output_type": "display_data"
    }
   ],
   "source": [
    "P=P.astype(int)\n",
    "plt.plot(np.bincount(P[:j])/np.sum(np.bincount(P[:j])))\n",
    "bin_counts = np.bincount(P[:j])/np.sum(np.bincount(P[:j]))\n",
    "plt.ylabel(r\"$P(m)$\")\n",
    "plt.xlabel(r\"$m$\")\n",
    "plt.title(\"Probability distribution for $c_b=c_f<k_d$\")"
   ]
  }
 ],
 "metadata": {
  "kernelspec": {
   "display_name": "Python 3",
   "language": "python",
   "name": "python3"
  },
  "language_info": {
   "codemirror_mode": {
    "name": "ipython",
    "version": 3
   },
   "file_extension": ".py",
   "mimetype": "text/x-python",
   "name": "python",
   "nbconvert_exporter": "python",
   "pygments_lexer": "ipython3",
   "version": "3.7.3"
  }
 },
 "nbformat": 4,
 "nbformat_minor": 2
}
