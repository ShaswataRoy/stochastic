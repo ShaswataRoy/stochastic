{
 "cells": [
  {
   "cell_type": "markdown",
   "metadata": {},
   "source": [
    "# Autocorrelation Function"
   ]
  },
  {
   "cell_type": "markdown",
   "metadata": {},
   "source": [
    "We define the autocorrelation function as $$C(t,\\tau) = \\langle x(t)x(t+\\tau) \\rangle - \\langle x(t)\\rangle \\langle x(t+\\tau)\\rangle$$\n",
    "\n",
    "As seen in class, $$C(t,\\tau) = \\sigma_t^2 e^{-k_d\\tau} = \\Lambda(t)e^{-k_d\\tau} = \\frac{k_b}{k_d}(1-e^{-k_d t})e^{-k_d\\tau}$$"
   ]
  },
  {
   "cell_type": "code",
   "execution_count": 2,
   "metadata": {},
   "outputs": [],
   "source": [
    "import numpy as np\n",
    "import pandas as pd\n",
    "import numpy as np\n",
    "import matplotlib.pyplot as plt"
   ]
  },
  {
   "cell_type": "code",
   "execution_count": 4,
   "metadata": {},
   "outputs": [],
   "source": [
    "k_b=10\n",
    "k_d=1\n",
    "T_max = 25/k_d"
   ]
  },
  {
   "cell_type": "code",
   "execution_count": 5,
   "metadata": {},
   "outputs": [],
   "source": [
    "dt = .1\n",
    "nreps = 1000\n",
    "\n",
    "X = np.zeros([nreps,int(T_max/dt)])\n",
    "autocor = np.zeros([int(T_max/dt)])\n",
    "x0 = np.zeros([nreps])\n",
    "#x0 = np.random.poisson(k_b/k_d,size=nreps)\n",
    "\n",
    "for i in range(nreps):\n",
    "    x=x0[i]\n",
    "    t=0\n",
    "    j=0\n",
    "    mu_steady = []\n",
    "\n",
    "    while t<T_max:\n",
    "        r=np.random.rand(2)\n",
    "        k0 = k_b+k_d*x\n",
    "            \n",
    "        t_react = -np.log(r[0])/k0\n",
    "        t = t+t_react\n",
    "        \n",
    "        while j<np.min([int(t/dt),int(T_max/dt)]):\n",
    "            X[i][j]=x\n",
    "            j=j+1\n",
    "        \n",
    "        if r[1]>k_b/k0:\n",
    "            x = x-1\n",
    "        else:\n",
    "            x=x+1"
   ]
  },
  {
   "cell_type": "markdown",
   "metadata": {},
   "source": [
    "$X^2$ is a matrix such that $X^2_{t,t+\\tau} = \\langle x(t)x(t+\\tau) \\rangle$\n",
    "\n",
    "$X^{avg}$ on the other hand is simply given by $X^{avg}_t = \\langle x(t) \\rangle$"
   ]
  },
  {
   "cell_type": "code",
   "execution_count": 6,
   "metadata": {},
   "outputs": [],
   "source": [
    "X2=np.dot(np.transpose(X),X)/X.shape[0]"
   ]
  },
  {
   "cell_type": "code",
   "execution_count": 7,
   "metadata": {},
   "outputs": [],
   "source": [
    "Xavg = np.dot(np.ones([X.shape[0]]),X)/X.shape[0]"
   ]
  },
  {
   "cell_type": "markdown",
   "metadata": {},
   "source": [
    "I've generated the autocorrelation from time $t=0$ to $t=15/k_d$.\n",
    "\n",
    "$\\tau$ lies in between $0$ and $t$\n",
    "\n",
    "I didn't want to increase $t$ any higher since $t+\\tau\\leq T_{max} = \\frac{25}{k_d}$"
   ]
  },
  {
   "cell_type": "code",
   "execution_count": 8,
   "metadata": {},
   "outputs": [],
   "source": [
    "def autocor_store(t,tau):\n",
    "    if t+tau>=X.shape[1]:\n",
    "        return(0)\n",
    "    cov = X2[t,t+tau]-Xavg[t]*Xavg[t+tau]\n",
    "    sigma_t = np.sqrt(X2[t,t]-(Xavg[t])**2)\n",
    "    sigma_tau = np.sqrt(X2[t+tau,t+tau]-(Xavg[t+tau])**2)\n",
    "    if (sigma_t==0 or sigma_tau==0):\n",
    "        return(0)\n",
    "    return(cov)"
   ]
  },
  {
   "cell_type": "code",
   "execution_count": 13,
   "metadata": {},
   "outputs": [],
   "source": [
    "autocorr = np.zeros([int(15/(k_d*dt)),int(T_max/dt)])"
   ]
  },
  {
   "cell_type": "code",
   "execution_count": 16,
   "metadata": {},
   "outputs": [],
   "source": [
    "autocorr = []\n",
    "for tau in range(int((T_max-20)/dt)):\n",
    "    autocorr.append(autocor_store(int(15/(k_d*dt)),tau))"
   ]
  },
  {
   "cell_type": "code",
   "execution_count": 20,
   "metadata": {},
   "outputs": [
    {
     "data": {
      "text/plain": [
       "<matplotlib.legend.Legend at 0x119358400>"
      ]
     },
     "execution_count": 20,
     "metadata": {},
     "output_type": "execute_result"
    },
    {
     "data": {
      "image/png": "[encoded data removed]",
      "text/plain": [
       "<Figure size 432x288 with 1 Axes>"
      ]
     },
     "metadata": {
      "needs_background": "light"
     },
     "output_type": "display_data"
    }
   ],
   "source": [
    "plt.scatter(np.arange(0,len(autocorr[::5]))*5,autocorr[::5],label=\"Simulation\",color='r')\n",
    "plt.plot([10*np.exp(-k_d*dt*t) for t in range(50)],label=\"Theoretical\")\n",
    "plt.xlabel(r\"$\\tau$\")\n",
    "plt.ylabel(r\"$C(t,\\tau)$\")\n",
    "plt.title(\"Autocorrelation at $t=15/k_d$\")\n",
    "plt.legend()"
   ]
  }
 ],
 "metadata": {
  "kernelspec": {
   "display_name": "Python 3",
   "language": "python",
   "name": "python3"
  },
  "language_info": {
   "codemirror_mode": {
    "name": "ipython",
    "version": 3
   },
   "file_extension": ".py",
   "mimetype": "text/x-python",
   "name": "python",
   "nbconvert_exporter": "python",
   "pygments_lexer": "ipython3",
   "version": "3.7.3"
  }
 },
 "nbformat": 4,
 "nbformat_minor": 2
}
