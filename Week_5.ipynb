{
 "cells": [
  {
   "cell_type": "markdown",
   "metadata": {},
   "source": [
    "# Autocorrelation for Switch"
   ]
  },
  {
   "cell_type": "code",
   "execution_count": 1,
   "metadata": {},
   "outputs": [],
   "source": [
    "import numpy as np\n",
    "import pandas as pd\n",
    "import numpy as np\n",
    "import matplotlib.pyplot as plt"
   ]
  },
  {
   "cell_type": "code",
   "execution_count": 2,
   "metadata": {},
   "outputs": [],
   "source": [
    "k_b=10\n",
    "k_d=1\n",
    "T_max = 25/k_d"
   ]
  },
  {
   "cell_type": "code",
   "execution_count": 3,
   "metadata": {},
   "outputs": [],
   "source": [
    "c_b = .5\n",
    "c_f = .5"
   ]
  },
  {
   "cell_type": "code",
   "execution_count": 4,
   "metadata": {},
   "outputs": [],
   "source": [
    "q_b = c_f\n",
    "q_d = c_b+c_f"
   ]
  },
  {
   "cell_type": "code",
   "execution_count": 5,
   "metadata": {},
   "outputs": [],
   "source": [
    "dt = .01;\n",
    "nreps = 10000\n",
    "tau = 1/k_d\n",
    "mu = np.zeros(int(T_max/dt))\n",
    "sq = np.zeros(int(T_max/dt))\n",
    "X = np.zeros([nreps,int(T_max/dt)])\n",
    "j=0\n",
    "\n",
    "for rep in range(nreps):\n",
    "    i=0\n",
    "    x=0\n",
    "    q0 = 1\n",
    "    q1 = 1-q0\n",
    "    t=0\n",
    "    while t<T_max:\n",
    "        [r1,r2]=np.random.rand(2)\n",
    "        p1 = c_f*q0\n",
    "        p2 = c_b*q1\n",
    "        p3 = k_b*q1\n",
    "        p4 = k_d*x\n",
    "        p_net = p1+p2+p3+p4\n",
    "        t_react = -np.log(r1)/p_net\n",
    "        t=t+t_react\n",
    "    \n",
    "        while i<np.min([int(t/dt),int(T_max/dt)]):\n",
    "            mu[i]=mu[i]+x\n",
    "            sq[i]=sq[i]+x**2\n",
    "            X[rep][i]=x\n",
    "            i=i+1\n",
    "\n",
    "        if r2<p1/p_net:\n",
    "            q1=1\n",
    "            q0=0\n",
    "        \n",
    "        elif r2<(p1+p2)/p_net:\n",
    "            q1=0\n",
    "            q0=1\n",
    "    \n",
    "        elif r2<(p1+p2+p3)/p_net:\n",
    "            x=x+1\n",
    "        \n",
    "        else:\n",
    "            x=x-1\n",
    "            \n",
    "mu = np.array(mu)/nreps\n",
    "sigma = np.array(sq)/nreps - mu**2"
   ]
  },
  {
   "cell_type": "code",
   "execution_count": 6,
   "metadata": {},
   "outputs": [],
   "source": [
    "def var_pulse(t):\n",
    "    t=t*dt\n",
    "    res1 = -25*np.exp(-2*t)*(-1+np.exp(t)-t)**2+42.5*np.exp(-2*t)*(0.2941-1.294*np.exp(t)+np.exp(2*t)+0.588*t-1.294*np.exp(t)*t)\n",
    "    return(res1)\n",
    "\n",
    "def mu_pulse(t):\n",
    "    t=t*dt\n",
    "    return(5*np.exp(-t)*(-1+np.exp(t)-t))"
   ]
  },
  {
   "cell_type": "code",
   "execution_count": 7,
   "metadata": {},
   "outputs": [],
   "source": [
    "mu=mu[:1000]\n",
    "sigma=sigma[:1000]"
   ]
  },
  {
   "cell_type": "code",
   "execution_count": 8,
   "metadata": {},
   "outputs": [
    {
     "data": {
      "text/plain": [
       "<matplotlib.legend.Legend at 0x1264e1898>"
      ]
     },
     "execution_count": 8,
     "metadata": {},
     "output_type": "execute_result"
    },
    {
     "data": {
      "image/png": "[encoded data removed]",
      "text/plain": [
       "<Figure size 432x288 with 1 Axes>"
      ]
     },
     "metadata": {
      "needs_background": "light"
     },
     "output_type": "display_data"
    }
   ],
   "source": [
    "plt.scatter(np.arange(0,len(mu[::50]))*50,mu[::50],label=\"Simulation Mean\")\n",
    "plt.scatter(np.arange(0,len(sigma[::50]))*50,sigma[::50],label=\"Simulation Variance\")\n",
    "plt.plot([mu_pulse(t) for t in range(1000)],label=\"Theoretical Mean\",alpha=.5)\n",
    "plt.plot([var_pulse(t) for t in range(1000)],label=\"Theoretical Variance\",alpha=.5)\n",
    "plt.xlabel(\"Time\")\n",
    "plt.title(\"Mean and Variance for Pulsing $c_f=.5,c_b=.5,k_b=10,k_d=1$\")\n",
    "plt.legend()"
   ]
  }
 ],
 "metadata": {
  "kernelspec": {
   "display_name": "Python 3",
   "language": "python",
   "name": "python3"
  },
  "language_info": {
   "codemirror_mode": {
    "name": "ipython",
    "version": 3
   },
   "file_extension": ".py",
   "mimetype": "text/x-python",
   "name": "python",
   "nbconvert_exporter": "python",
   "pygments_lexer": "ipython3",
   "version": "3.7.3"
  }
 },
 "nbformat": 4,
 "nbformat_minor": 2
}
