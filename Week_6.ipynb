{
 "cells": [
  {
   "cell_type": "code",
   "execution_count": 1,
   "metadata": {},
   "outputs": [],
   "source": [
    "import numpy as np\n",
    "import pandas as pd\n",
    "import numpy as np\n",
    "import matplotlib.pyplot as plt"
   ]
  },
  {
   "cell_type": "code",
   "execution_count": 2,
   "metadata": {},
   "outputs": [],
   "source": [
    "k_b=10\n",
    "k_d=1\n",
    "T_max = 25/k_d"
   ]
  },
  {
   "cell_type": "code",
   "execution_count": 3,
   "metadata": {},
   "outputs": [],
   "source": [
    "q_b = 7\n",
    "q_d = 2"
   ]
  },
  {
   "cell_type": "markdown",
   "metadata": {},
   "source": [
    "# Dynamic Noise"
   ]
  },
  {
   "cell_type": "code",
   "execution_count": 5,
   "metadata": {},
   "outputs": [],
   "source": [
    "def theor(t):\n",
    "    r1 = k_b*q_b*(1-np.exp(-k_d*t))/(k_d*q_d)\n",
    "    r2 = k_b*q_b*(np.exp(-k_d*t)-np.exp(-q_d*t))/((k_d-q_d)*q_d)\n",
    "    return(r1+r2)"
   ]
  },
  {
   "cell_type": "code",
   "execution_count": 7,
   "metadata": {},
   "outputs": [],
   "source": [
    "dt = .1;\n",
    "nreps = 1000\n",
    "tau = 1/k_d\n",
    "mu = np.zeros(int(T_max/dt))\n",
    "sq = np.zeros(int(T_max/dt))\n",
    "\n",
    "for rep in range(nreps):\n",
    "    i=0\n",
    "    x=0\n",
    "    t=0\n",
    "    q = 0\n",
    "              \n",
    "    while t<T_max:\n",
    "        r1,r2=np.random.rand(1,2).flatten().tolist()\n",
    "        p1 = q_b\n",
    "        p2 = q_d*q\n",
    "        p3 = k_b*q\n",
    "        p4 = k_d*x\n",
    "        p_net = p1+p2+p3+p4\n",
    "\n",
    "        t_react = -np.log(r1)/p_net\n",
    "        t=t+t_react\n",
    "        \n",
    "        while i<np.min([int(t/dt),int(T_max/dt)]):\n",
    "            if i%int(tau)==0:\n",
    "                mu[i] = mu[i]+x\n",
    "                sq[i] = sq[i]+x**2\n",
    "            i=i+1\n",
    "              \n",
    "        if r2<p1/p_net:\n",
    "            q=q+1\n",
    "            \n",
    "        elif r2<(p1+p2)/p_net:\n",
    "            q=q-1\n",
    "            \n",
    "        elif r2<(p1+p2+p3)/p_net:\n",
    "            x=x+1\n",
    "            \n",
    "        else:\n",
    "            x=x-1\n",
    "    \n",
    "mu = np.array(mu)/nreps\n",
    "sigma = np.array(sq)/nreps - mu**2"
   ]
  },
  {
   "cell_type": "code",
   "execution_count": 12,
   "metadata": {},
   "outputs": [],
   "source": [
    "def var(t):\n",
    "    t = t*dt\n",
    "    return((35/3)*np.exp(-3*t)*(-40+33*np.exp(t)-6*np.exp(2*t)+13*np.exp(3*t)-60*t*np.exp(t)))"
   ]
  },
  {
   "cell_type": "code",
   "execution_count": 15,
   "metadata": {},
   "outputs": [],
   "source": [
    "mu = mu[:100]\n",
    "sigma = sigma[:100]"
   ]
  },
  {
   "cell_type": "code",
   "execution_count": 18,
   "metadata": {},
   "outputs": [
    {
     "data": {
      "text/plain": [
       "Text(0.5, 1.0, 'Dynamic')"
      ]
     },
     "execution_count": 18,
     "metadata": {},
     "output_type": "execute_result"
    },
    {
     "data": {
      "image/png": "[encoded data removed]",
      "text/plain": [
       "<Figure size 432x288 with 1 Axes>"
      ]
     },
     "metadata": {
      "needs_background": "light"
     },
     "output_type": "display_data"
    }
   ],
   "source": [
    "plt.scatter(np.arange(0,len(mu[::5]))*5,mu[::5],label=\"Simulation Mean\")\n",
    "plt.scatter(np.arange(0,len(sigma[::5]))*5,sigma[::5],label=\"Simulation Variance\")\n",
    "plt.plot([theor(.1*t) for t in range(100)],label='Theoretical Mean')\n",
    "plt.plot([var(t) for t in range(100)],label='Theoretical Variance')\n",
    "plt.xlabel('time')\n",
    "plt.legend()\n",
    "plt.title(\"Dynamic\")"
   ]
  },
  {
   "cell_type": "markdown",
   "metadata": {},
   "source": [
    "# Static Noise"
   ]
  },
  {
   "cell_type": "code",
   "execution_count": 19,
   "metadata": {},
   "outputs": [],
   "source": [
    "dt = .1;\n",
    "nreps = 1000\n",
    "tau = 1/k_d\n",
    "mu = np.zeros(int(T_max/dt))\n",
    "sq = np.zeros(int(T_max/dt))\n",
    "\n",
    "for rep in range(nreps):\n",
    "    i=0\n",
    "    x=0\n",
    "    t=0\n",
    "    q = np.random.poisson(q_b/q_d)\n",
    "    if q==0:\n",
    "        continue\n",
    "              \n",
    "    while t<T_max:\n",
    "        [r1,r2]=np.random.rand(2)\n",
    "        p1 = k_b*q\n",
    "        p2 = k_d*x\n",
    "        p_net = p1+p2\n",
    "\n",
    "        t_react = -np.log(r1)/p_net\n",
    "        t=t+t_react\n",
    "        \n",
    "        while i<np.min([int(t/dt),int(T_max/dt)]):\n",
    "            mu[i] = mu[i]+x\n",
    "            sq[i] = sq[i]+x**2\n",
    "            i=i+1\n",
    "              \n",
    "        if r2<p1/p_net:\n",
    "            x=x+1\n",
    "            \n",
    "        else:\n",
    "            x=x-1\n",
    "    \n",
    "mu = np.array(mu)/nreps\n",
    "sigma = np.array(sq)/nreps - mu**2"
   ]
  },
  {
   "cell_type": "code",
   "execution_count": 25,
   "metadata": {},
   "outputs": [],
   "source": [
    "def var(t):\n",
    "    t = t*dt\n",
    "    return()"
   ]
  },
  {
   "cell_type": "code",
   "execution_count": 29,
   "metadata": {},
   "outputs": [],
   "source": [
    "sigma = sigma[:100]\n",
    "mu = mu[:100]"
   ]
  },
  {
   "cell_type": "code",
   "execution_count": 32,
   "metadata": {},
   "outputs": [
    {
     "data": {
      "text/plain": [
       "Text(0.5, 1.0, 'Static')"
      ]
     },
     "execution_count": 32,
     "metadata": {},
     "output_type": "execute_result"
    },
    {
     "data": {
      "image/png": "[encoded data removed]",
      "text/plain": [
       "<Figure size 432x288 with 1 Axes>"
      ]
     },
     "metadata": {
      "needs_background": "light"
     },
     "output_type": "display_data"
    }
   ],
   "source": [
    "plt.scatter(np.arange(0,len(mu[::5]))*5,mu[::5],label=\"Simulation Mean\")\n",
    "plt.scatter(np.arange(0,len(sigma[::5]))*5,sigma[::5],label=\"Steady State Variance\")\n",
    "plt.plot([theor(.1*t) for t in range(100)],label='Theoretical Mean')\n",
    "plt.plot(np.repeat(385,100))\n",
    "plt.xlabel('time')\n",
    "plt.legend()\n",
    "plt.title(\"Static\")"
   ]
  }
 ],
 "metadata": {
  "kernelspec": {
   "display_name": "Python 3",
   "language": "python",
   "name": "python3"
  },
  "language_info": {
   "codemirror_mode": {
    "name": "ipython",
    "version": 3
   },
   "file_extension": ".py",
   "mimetype": "text/x-python",
   "name": "python",
   "nbconvert_exporter": "python",
   "pygments_lexer": "ipython3",
   "version": "3.7.3"
  }
 },
 "nbformat": 4,
 "nbformat_minor": 2
}
